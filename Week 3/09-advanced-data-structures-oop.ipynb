{
 "cells": [
  {
   "cell_type": "markdown",
   "id": "b0651fe5",
   "metadata": {},
   "source": [
    "# Advanced Data Structures & OOP\n",
    "## Tuple\n",
    "\n",
    "Tuple adalah struktur data di Python seperti list, tapi immutable (tidak bisa diubah setelah dibuat)."
   ]
  },
  {
   "cell_type": "code",
   "execution_count": null,
   "id": "a3ca31cc",
   "metadata": {},
   "outputs": [],
   "source": [
    "my_tuple = (1, 2, 3)\n",
    "print(my_tuple[0])  # Output: 1"
   ]
  },
  {
   "cell_type": "markdown",
   "id": "edabf1e1",
   "metadata": {},
   "source": [
    "### Kapan Menggunakan Tuple?\n",
    "- Ketika kamu ingin menyimpan data yang tidak berubah (contoh: koordinat, hari dalam seminggu)\n",
    "- Lebih aman dan efisien daripada list"
   ]
  },
  {
   "cell_type": "markdown",
   "id": "0087bab3",
   "metadata": {},
   "source": [
    "## Multi-Dimensional Lists\n",
    "### Nested List (List dalam List)\n",
    "Digunakan untuk menyimpan data dalam bentuk tabel (baris dan kolom)."
   ]
  },
  {
   "cell_type": "code",
   "execution_count": null,
   "id": "f163c6c2",
   "metadata": {},
   "outputs": [],
   "source": [
    "matrix = [\n",
    "    [1, 2, 3],\n",
    "    [4, 5, 6],\n",
    "    [7, 8, 9]\n",
    "]\n",
    "\n",
    "print(matrix[1][2])  # Output: 6 (baris ke-2, kolom ke-3)"
   ]
  },
  {
   "cell_type": "markdown",
   "id": "b12ea314",
   "metadata": {},
   "source": [
    "### List of Tuples\n",
    "Kombinasi list yang berisi data tetap dalam bentuk tuple."
   ]
  },
  {
   "cell_type": "code",
   "execution_count": null,
   "id": "33905457",
   "metadata": {},
   "outputs": [],
   "source": [
    "students = [(\"Alya\", 90), (\"Budi\", 85)]\n",
    "for name, score in students:\n",
    "    print(name, \":\", score)"
   ]
  },
  {
   "cell_type": "markdown",
   "id": "211c8e76",
   "metadata": {},
   "source": [
    "## Dataception (List in Dict / Dict in List)\n",
    "Digunakan untuk menyimpan data kompleks, seperti riwayat chat, produk dengan kategori, dsb.\n",
    "### List di dalam Dictionary"
   ]
  },
  {
   "cell_type": "code",
   "execution_count": 1,
   "id": "a5deea3a",
   "metadata": {},
   "outputs": [
    {
     "name": "stdout",
     "output_type": "stream",
     "text": [
      "Apa kabar?\n"
     ]
    }
   ],
   "source": [
    "chat_log = {\n",
    "    \"user\": [\"Hi\", \"Apa kabar?\"],\n",
    "    \"bot\": [\"Halo!\", \"Saya baik, terima kasih!\"]\n",
    "}\n",
    "print(chat_log[\"user\"][1])  # Output: Apa kabar?"
   ]
  },
  {
   "cell_type": "markdown",
   "id": "9af25784",
   "metadata": {},
   "source": [
    "### Dictionary di dalam List"
   ]
  },
  {
   "cell_type": "code",
   "execution_count": null,
   "id": "db33bf7f",
   "metadata": {},
   "outputs": [],
   "source": [
    "products = [\n",
    "    {\"name\": \"Laptop\", \"price\": 7000},\n",
    "    {\"name\": \"Mouse\", \"price\": 150}\n",
    "]\n",
    "print(products[0][\"name\"])  # Output: Laptop"
   ]
  },
  {
   "cell_type": "markdown",
   "id": "155bf388",
   "metadata": {},
   "source": [
    "## Object-Oriented Programming (OOP)\n",
    "### Defining a Class & Creating Objects\n",
    "Class: Blueprint"
   ]
  },
  {
   "cell_type": "code",
   "execution_count": null,
   "id": "ba2860d7",
   "metadata": {},
   "outputs": [],
   "source": [
    "class Mahasiswa:\n",
    "    def __init__(self, nama, jurusan):\n",
    "        self.nama = nama\n",
    "        self.jurusan = jurusan\n",
    "\n",
    "# Object\n",
    "mhs1 = Mahasiswa(\"Tari\", \"Informatika\")\n",
    "print(mhs1.nama)  # Output: Tari"
   ]
  },
  {
   "cell_type": "markdown",
   "id": "b58989e7",
   "metadata": {},
   "source": [
    "### Methods\n",
    "Function yang berada di dalam class dan biasanya menggunakan self.\n"
   ]
  },
  {
   "cell_type": "code",
   "execution_count": null,
   "id": "134caa3e",
   "metadata": {},
   "outputs": [],
   "source": [
    "class Mahasiswa:\n",
    "    def __init__(self, nama):\n",
    "        self.nama = nama\n",
    "\n",
    "    def sapa(self):\n",
    "        return f\"Halo, saya {self.nama}\"\n",
    "\n",
    "mhs = Mahasiswa(\"Rani\")\n",
    "print(mhs.sapa())  # Output: Halo, saya Rani"
   ]
  },
  {
   "cell_type": "markdown",
   "id": "93618980",
   "metadata": {},
   "source": [
    "### Encapsulation & Property Decorators\n",
    "**Tujuan Encapsulation**\n",
    "\n",
    "Melindungi data internal dari akses langsung."
   ]
  },
  {
   "cell_type": "code",
   "execution_count": null,
   "id": "df39aa68",
   "metadata": {},
   "outputs": [],
   "source": [
    "class Akun:\n",
    "    def __init__(self, saldo):\n",
    "        self.__saldo = saldo  # Private variable\n",
    "\n",
    "    def lihat_saldo(self):\n",
    "        return self.__saldo\n",
    "\n",
    "akun = Akun(10000)\n",
    "print(akun.lihat_saldo())  # Output: 10000"
   ]
  },
  {
   "cell_type": "markdown",
   "id": "371634e6",
   "metadata": {},
   "source": [
    "**Property Decorators**\n",
    "\n",
    "Digunakan untuk membuat getter & setter yang terlihat seperti attribute biasa."
   ]
  },
  {
   "cell_type": "code",
   "execution_count": null,
   "id": "bb69ac73",
   "metadata": {},
   "outputs": [],
   "source": [
    "class Produk:\n",
    "    def __init__(self, harga):\n",
    "        self._harga = harga\n",
    "\n",
    "    @property\n",
    "    def harga(self):\n",
    "        return self._harga\n",
    "\n",
    "    @harga.setter\n",
    "    def harga(self, value):\n",
    "        if value > 0:\n",
    "            self._harga = value\n",
    "\n",
    "p = Produk(1000)\n",
    "p.harga = 2000\n",
    "print(p.harga)  # Output: 2000"
   ]
  },
  {
   "cell_type": "markdown",
   "id": "d002453a",
   "metadata": {},
   "source": [
    "# Tantangan\n",
    "Yuk kerjakan tantangan di bawah ini! Sebelum mengerjakan tantangan, jangan lupa masukkan student ID kamu ya!"
   ]
  },
  {
   "cell_type": "code",
   "execution_count": null,
   "id": "a45dab6c",
   "metadata": {},
   "outputs": [],
   "source": [
    "%pip install rggrader\n",
    "\n",
    "from rggrader import submit\n",
    "\n",
    "# @title #### Student Identity\n",
    "student_id = \"your_student_id\"  # @param {type:\"string\"}\n",
    "name = \"your_name\"  # @param {type:\"string\"}"
   ]
  },
  {
   "cell_type": "markdown",
   "id": "444ae680",
   "metadata": {},
   "source": [
    "## Tantangan 1 - Pair Coordinates"
   ]
  },
  {
   "cell_type": "code",
   "execution_count": null,
   "id": "2d8268b7",
   "metadata": {},
   "outputs": [],
   "source": [
    "# @title #### 05. Pair Coordinates\n",
    "from rggrader import submit\n",
    "\n",
    "# TODO: You're given two lists of cities and their coordinates.\n",
    "# cities = ['CityA', 'CityB', 'CityC']\n",
    "# coordinates = [(10.00, 20.00), (30.00, 40.00), (50.00, 60.00)]\n",
    "# Create a dictionary 'city_coordinates' that contains cities as keys and their coordinates as values.\n",
    "\n",
    "cities = ['CityA', 'CityB', 'CityC']\n",
    "coordinates = [(10.00, 20.00), (30.00, 40.00), (50.00, 60.00)]\n",
    "city_coordinates = {}\n",
    "\n",
    "# Put your code here:\n",
    "\n",
    "\n",
    "\n",
    "# ---- End of your code ----\n",
    "\n",
    "print(f\"The final city_coordinates dictionary is {city_coordinates}\")\n",
    "\n",
    "# Submit Method\n",
    "assignment_id = \"09_advanced-data-structures-oop\"\n",
    "question_id = \"01_pair_coordinates\"\n",
    "submit(student_id, name, assignment_id, str(city_coordinates), question_id)\n",
    "\n",
    "# Example:\n",
    "# Cities: ['Helsinki', 'Oslo', 'Copenhagen']\n",
    "# Coordinates: [(60.17, 24.94), (59.91, 10.75), (55.67, 12.57)]\n",
    "# Output: {'Helsinki': (60.17, 24.94), 'Oslo': (59.91, 10.75), 'Copenhagen': (55.67, 12.57)}"
   ]
  },
  {
   "cell_type": "markdown",
   "id": "cbb67a4b",
   "metadata": {},
   "source": [
    "## Tantangan 2 - Automobile Dealership"
   ]
  },
  {
   "cell_type": "code",
   "execution_count": null,
   "id": "3f2bcbc9",
   "metadata": {},
   "outputs": [],
   "source": [
    "# @title #### 04. Automobile Dealership\n",
    "from rggrader import submit\n",
    "\n",
    "# In this assignment, you will implement classes in Python. \n",
    "\n",
    "# Here's the details of the task:\n",
    "# 1. Create a class named 'Car' having attributes 'manufacturer' and 'model'.\n",
    "# 2. The 'Car' class should have the following methods:\n",
    "#     a. `display_info`: This should return a string \"This car is a {manufacturer} {model}\". The placeholders correspond to the 'manufacturer' and 'model' respectively.\n",
    "#     b. `honk`: This should return a string \"{manufacturer} says honk honk!\". The placeholder corresponds to the 'manufacturer'.\n",
    "#     c. `set_car_info`: This should be a method to set a new 'manufacturer' and 'model' for the car.\n",
    "# \n",
    "# The initial creation of a Car object should take the 'manufacturer' and 'model' as arguments.\n",
    "# Here is an example of what your code should emulate:\n",
    "\n",
    "my_car = Car(\"Toyota\", \"Corolla\")\n",
    "answer = []\n",
    "answer.append(my_car.display_info()) # This should add \"This car is a Toyota Corolla\" to the 'answer' list\n",
    "answer.append(my_car.honk()) # This should add \"Toyota says honk honk!\" to the 'answer' list\n",
    "my_car.set_car_info(\"Ford\", \"Mustang\")\n",
    "answer.append(my_car.display_info()) # This should add \"This car is a Ford Mustang\" to the 'answer' list\n",
    "answer.append(my_car.honk()) # This should add \"Ford says honk honk!\" to the 'answer' list\n",
    "# Finally submit your answer\n",
    "assignment_id = \"09_advanced-data-structures-oop\"\n",
    "question_id = \"02_automobile_dealership\"\n",
    "submit(student_id, name, assignment_id, str(answer), question_id)"
   ]
  },
  {
   "cell_type": "code",
   "execution_count": null,
   "id": "d309591d",
   "metadata": {},
   "outputs": [],
   "source": []
  }
 ],
 "metadata": {
  "kernelspec": {
   "display_name": "myenv",
   "language": "python",
   "name": "python3"
  },
  "language_info": {
   "codemirror_mode": {
    "name": "ipython",
    "version": 3
   },
   "file_extension": ".py",
   "mimetype": "text/x-python",
   "name": "python",
   "nbconvert_exporter": "python",
   "pygments_lexer": "ipython3",
   "version": "3.10.0"
  }
 },
 "nbformat": 4,
 "nbformat_minor": 5
}
