{
 "cells": [
  {
   "cell_type": "markdown",
   "id": "e902a845",
   "metadata": {},
   "source": [
    "# NLP Models & Transformers\n",
    "## NLP\n",
    "**NLP (Natural Language Processing)** adalah cabang dari AI (Artificial Intelligence) yang membuat komputer bisa **memahami, memproses, dan menghasilkan bahasa manusia**.\n",
    "\n",
    "Contoh aplikasi NLP:\n",
    "- Google Translate\n",
    "- Siri / Alexa\n",
    "- ChatGPT\n",
    "- Aplikasi deteksi sentimen (positif/negatif)\n",
    "- Filter spam di email\n",
    "\n",
    "\n",
    "Agar bisa memproses bahasa manusia, NLP membutuhkan:\n",
    "\n",
    "1. **Text Processing**: \n",
    "   - Membersihkan teks (misalnya: buang tanda baca, ubah huruf jadi lowercase)\n",
    "   - Tokenisasi (memecah kalimat jadi kata-kata)\n",
    "2. **Model Machine Learning / Deep Learning**: \n",
    "   - Model ini dilatih untuk mengenali pola bahasa.\n",
    "\n",
    "## Apa Itu NLP Model?\n",
    "\n",
    "**NLP Model** adalah program (algoritma) yang sudah dilatih untuk memahami bahasa manusia.\n",
    "\n",
    "### Contoh Task NLP:\n",
    "- **Text Classification** → Menentukan kategori suatu teks\n",
    "- **Sentiment Analysis** → Menilai apakah kalimat bernada positif/negatif\n",
    "- **NER (Named Entity Recognition)** → Menemukan nama orang, tempat, tanggal, dll.\n",
    "- **Text Generation** → Membuat teks baru\n",
    "- **Translation** → Menerjemahkan bahasa\n",
    "\n",
    "## Tantangan dalam NLP\n",
    "\n",
    "- **Ambiguitas bahasa**: Kata bisa punya banyak arti, tergantung konteks\n",
    "- **Konteks panjang**: Komputer harus memahami hubungan antar kata dalam kalimat panjang\n",
    "  \n",
    "\n",
    "  \n",
    "## Transformers\n",
    "### Apa Itu Transformers?\n",
    "**Transformers** adalah jenis model deep learning yang sangat baik dalam memahami konteks dalam kalimat. Diperkenalkan oleh Google tahun 2017 lewat paper *“Attention is All You Need”*.\n",
    "\n",
    "\n",
    "## Kenapa Transformers Hebat?\n",
    "1. **Attention Mechanism**:\n",
    "   - Fokus pada kata-kata penting dalam kalimat\n",
    "2. **Bisa diproses paralel**:\n",
    "   - Lebih cepat dari model lama (RNN, LSTM)\n",
    "3. **Pretrained & Fine-tuned**:\n",
    "   - Model dilatih dulu dengan data besar → bisa disesuaikan untuk task tertentu\n",
    "\n",
    "\n",
    "## Model Transformers Populer\n",
    "\n",
    "| Nama Model | Dibuat oleh | Kegunaan |\n",
    "|------------|-------------|----------|\n",
    "| **BERT** | Google | Memahami konteks dua arah |\n",
    "| **GPT** | OpenAI | Menghasilkan teks baru |\n",
    "| **RoBERTa** | Facebook | Versi upgrade dari BERT |\n",
    "| **T5** | Google | Bisa multitask NLP |\n",
    "| **DistilBERT** | HuggingFace | BERT versi ringan & cepat |\n",
    "\n",
    "\n",
    "## Cara Praktis Pakai Model Transformers\n",
    "\n",
    "Kita bisa pakai library dari **Hugging Face**:\n",
    "\n",
    "\n",
    "Contoh Penggunaan: **Sentiment Analysis**"
   ]
  },
  {
   "cell_type": "markdown",
   "id": "013b8343",
   "metadata": {},
   "source": []
  },
  {
   "cell_type": "code",
   "execution_count": null,
   "id": "5dfa2c5f",
   "metadata": {},
   "outputs": [],
   "source": [
    "%pip install transformers torch"
   ]
  },
  {
   "cell_type": "code",
   "execution_count": null,
   "id": "40860d54",
   "metadata": {},
   "outputs": [],
   "source": [
    "from transformers import pipeline\n",
    "\n",
    "# Buat pipeline NLP untuk analisis sentimen\n",
    "classifier = pipeline(\"sentiment-analysis\")\n",
    "\n",
    "# Analisis kalimat\n",
    "result = classifier(\"Saya sangat senang hari ini!\")\n",
    "print(result)\n",
    "# Output: [{'label': 'POSITIVE', 'score': 0.999}]"
   ]
  },
  {
   "cell_type": "markdown",
   "id": "12c8d71d",
   "metadata": {},
   "source": [
    "# Tantangan\n",
    "Yuk kerjakan tantangan di bawah ini! Sebelum mengerjakan tantangan, jangan lupa masukkan student ID kamu ya!"
   ]
  },
  {
   "cell_type": "code",
   "execution_count": null,
   "id": "b7553f56",
   "metadata": {},
   "outputs": [],
   "source": [
    "%pip install rggrader\n",
    "\n",
    "from rggrader import submit\n",
    "\n",
    "# @title #### Student Identity\n",
    "student_id = \"your_student_id\"  # @param {type:\"string\"}\n",
    "name = \"your_name\"  # @param {type:\"string\"}"
   ]
  },
  {
   "cell_type": "markdown",
   "id": "83fc3d5b",
   "metadata": {},
   "source": [
    "# Tantangan 1 - Deteksi Emosi"
   ]
  },
  {
   "cell_type": "code",
   "execution_count": null,
   "id": "92b008f0",
   "metadata": {},
   "outputs": [],
   "source": [
    "from rggrader import submit\n",
    "from transformers import pipeline\n",
    "\n",
    "# TODO: Buat fungsi `predict_emotion` yang menerima teks, lalu mengembalikan label emosinya.\n",
    "# Gunakan model dari Hugging Face yang mendukung emotion classification.\n",
    "# Output harus berupa string seperti: \"joy\", \"anger\", \"sadness\", dst.\n",
    "\n",
    "def predict_emotion(text):\n",
    "    # ---- Tulis kode kamu di bawah sini ----\n",
    "\n",
    "    # ---- Akhir kode kamu ----\n",
    "    return \"\"  # Ganti dengan label hasil prediksi\n",
    "\n",
    "# Contoh input\n",
    "example_text = \"I can't believe how amazing this day has been!\"\n",
    "emotion = predict_emotion(example_text)\n",
    "print(f\"Emosi yang terdeteksi: {emotion}\")\n",
    "\n",
    "# Submit jawaban\n",
    "assignment_id = \"10_nlp-models-and-transformers\"\n",
    "question_id = \"01_emotion-detection\"\n",
    "submit(student_id, name, assignment_id, emotion, question_id)\n",
    "\n",
    "# Expected Output: joy\n"
   ]
  }
 ],
 "metadata": {
  "kernelspec": {
   "display_name": "myenv",
   "language": "python",
   "name": "python3"
  },
  "language_info": {
   "codemirror_mode": {
    "name": "ipython",
    "version": 3
   },
   "file_extension": ".py",
   "mimetype": "text/x-python",
   "name": "python",
   "nbconvert_exporter": "python",
   "pygments_lexer": "ipython3",
   "version": "3.10.0"
  }
 },
 "nbformat": 4,
 "nbformat_minor": 5
}
